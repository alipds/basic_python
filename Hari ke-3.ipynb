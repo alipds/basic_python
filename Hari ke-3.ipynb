{
 "cells": [
  {
   "cell_type": "markdown",
   "metadata": {},
   "source": [
    "## Pendalaman List & Loop"
   ]
  },
  {
   "cell_type": "code",
   "execution_count": 1,
   "metadata": {},
   "outputs": [
    {
     "name": "stdout",
     "output_type": "stream",
     "text": [
      "[1, 2, 3, 100]\n",
      "4\n",
      "100\n",
      "['a', 'b']\n",
      "2\n",
      "Value mylist:  106\n"
     ]
    }
   ],
   "source": [
    "mylist = []\n",
    "mylist.append(1)\n",
    "mylist.append(2)\n",
    "mylist.append(3)\n",
    "mylist.append(100)\n",
    "\n",
    "print(mylist)\n",
    "print(len(mylist))\n",
    "print(mylist[3])\n",
    "\n",
    "mylist2 = []\n",
    "mylist2.append(\"a\")\n",
    "mylist2.append(\"b\")\n",
    "\n",
    "print(mylist2)\n",
    "print(len(mylist2))\n",
    "\n",
    "print(\"Value mylist: \", sum(mylist))"
   ]
  },
  {
   "cell_type": "code",
   "execution_count": 26,
   "metadata": {},
   "outputs": [
    {
     "name": "stdout",
     "output_type": "stream",
     "text": [
      "Nama: Alip\n",
      "Inputkan hobi ke-1:makan\n",
      "Ada lagi? (y/t): y\n",
      "Inputkan hobi ke-2:minum\n",
      "Ada lagi? (y/t): y\n",
      "Inputkan hobi ke-3:tidur\n",
      "Ada lagi? (y/t): t\n",
      "\n",
      " Alip memiliki 3 hobi:\n",
      "- makan\n",
      "- minum\n",
      "- tidur\n"
     ]
    }
   ],
   "source": [
    "hobi = []\n",
    "count = 1\n",
    "nama = input(\"Nama: \")\n",
    "\n",
    "while True:\n",
    "    hobi_ = input(\"Inputkan hobi ke-{}:\".format(count))\n",
    "    hobi.append(hobi_)\n",
    "    \n",
    "    count += 1\n",
    "    \n",
    "    tanya = input(\"Ada lagi? (y/t): \")\n",
    "    if tanya == \"t\":\n",
    "        break\n",
    "\n",
    "print(\"\\n\", nama, \"memiliki {} hobi:\". format(len(hobi)))\n",
    "for i in hobi:\n",
    "    print(\"- {}\".format(i))"
   ]
  },
  {
   "cell_type": "code",
   "execution_count": 22,
   "metadata": {},
   "outputs": [
    {
     "name": "stdout",
     "output_type": "stream",
     "text": [
      "Berapa jumlah pelanggan yang ingin diinput: 2\n",
      "\n",
      "Pelanggan ke- 1\n",
      "Nama: Alip\n",
      "Umur: 24\n",
      "Pelanggan ke- 2\n",
      "Nama: Bella\n",
      "Umur: 21\n",
      "\n",
      "Pelanggan yang terdaftar adalah:\n",
      "1. Alip berumur 24 tahun.\n",
      "2. Bella berumur 21 tahun.\n"
     ]
    }
   ],
   "source": [
    "nama = []\n",
    "umur = []\n",
    "panggilan = []\n",
    "count = 1\n",
    "pelanggan = int(input(\"Berapa jumlah pelanggan yang ingin diinput: \"))\n",
    "print(\"\")\n",
    "\n",
    "for i in range(pelanggan):\n",
    "    print(\"Pelanggan ke-\", i + 1)\n",
    "    namaPelanggan = input(\"Nama: \")\n",
    "    umurPelanggan = int(input(\"Umur: \"))\n",
    "    \n",
    "    nama.append(namaPelanggan)\n",
    "    umur.append(umurPelanggan)\n",
    "\n",
    "print(\"\\nPelanggan yang terdaftar adalah:\")\n",
    "\n",
    "for i in range(len(nama)):\n",
    "    print(count, end=\". \") \n",
    "    print(nama[i], \"berumur\", umur[i], \"tahun.\")\n",
    "    count += 1"
   ]
  }
 ],
 "metadata": {
  "kernelspec": {
   "display_name": "Python 3",
   "language": "python",
   "name": "python3"
  },
  "language_info": {
   "codemirror_mode": {
    "name": "ipython",
    "version": 3
   },
   "file_extension": ".py",
   "mimetype": "text/x-python",
   "name": "python",
   "nbconvert_exporter": "python",
   "pygments_lexer": "ipython3",
   "version": "3.8.3"
  }
 },
 "nbformat": 4,
 "nbformat_minor": 4
}
