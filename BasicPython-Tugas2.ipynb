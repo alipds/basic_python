{
 "cells": [
  {
   "cell_type": "code",
   "execution_count": 9,
   "metadata": {},
   "outputs": [
    {
     "name": "stdout",
     "output_type": "stream",
     "text": [
      "Selamat Datang!\n",
      "\n",
      "--- Menu ---\n",
      "1. Daftar Kontak\n",
      "2. Tambah Kontak\n",
      "3. Keluar\n",
      "\n",
      "Pilih menu: 1\n",
      "Daftar Kontak:\n",
      "Nama: Agus\n",
      "No. Telpon: 080901020304\n",
      "Nama: Budi\n",
      "No. Telpon: 080905060708\n",
      "\n",
      "Pilih menu: 2\n",
      "Nama: Bejo\n",
      "No. Telpon: 080912345678\n",
      "Kontak berhasil ditambahkan.\n",
      "\n",
      "Pilih menu: 1\n",
      "Daftar Kontak:\n",
      "Nama: Agus\n",
      "No. Telpon: 080901020304\n",
      "Nama: Budi\n",
      "No. Telpon: 080905060708\n",
      "Nama: Bejo\n",
      "No. Telpon: 080912345678\n",
      "\n",
      "Pilih menu: 4\n",
      "Menu tidak tersedia.\n",
      "\n",
      "Pilih menu: 3\n",
      "Program selesai, sampai jumpa!\n"
     ]
    }
   ],
   "source": [
    "print(\"Selamat Datang!\")\n",
    "print(\"\"\"\n",
    "--- Menu ---\n",
    "1. Daftar Kontak\n",
    "2. Tambah Kontak\n",
    "3. Keluar\n",
    "\"\"\")\n",
    "\n",
    "daftar_kontak = []\n",
    "\n",
    "kontak1 = {\n",
    "    \"nama\" : \"Agus\",\n",
    "    \"telpon\" : \"080901020304\",\n",
    "}\n",
    "kontak2 = {\n",
    "    \"nama\" : \"Budi\",\n",
    "    \"telpon\" : \"080905060708\"\n",
    "}\n",
    "\n",
    "daftar_kontak.append(kontak1)\n",
    "daftar_kontak.append(kontak2)\n",
    "\n",
    "pilih = int(input(\"Pilih menu: \"))\n",
    "\n",
    "while True:\n",
    "    if pilih == 1:\n",
    "        print(\"Daftar Kontak:\")\n",
    "        for kontak in daftar_kontak:\n",
    "            print(\"Nama: {}\".format(kontak[\"nama\"]))\n",
    "            print(\"No. Telpon: {}\".format(kontak[\"telpon\"]))\n",
    "        pilih = int(input(\"\\nPilih menu: \"))\n",
    "    elif pilih == 2:\n",
    "        nama_baru = input(\"Nama: \")\n",
    "        telpon_baru = input(\"No. Telpon: \")\n",
    "        daftar_kontak.append({\n",
    "                            \"nama\" : nama_baru,\n",
    "                            \"telpon\" : telpon_baru \n",
    "                            })\n",
    "        print(\"Kontak berhasil ditambahkan.\")\n",
    "        pilih = int(input(\"\\nPilih menu: \"))\n",
    "    elif pilih == 3:\n",
    "        print(\"Program selesai, sampai jumpa!\")\n",
    "        break\n",
    "    else:\n",
    "        print(\"Menu tidak tersedia.\")\n",
    "        pilih = int(input(\"\\nPilih menu: \"))"
   ]
  }
 ],
 "metadata": {
  "kernelspec": {
   "display_name": "Python 3",
   "language": "python",
   "name": "python3"
  },
  "language_info": {
   "codemirror_mode": {
    "name": "ipython",
    "version": 3
   },
   "file_extension": ".py",
   "mimetype": "text/x-python",
   "name": "python",
   "nbconvert_exporter": "python",
   "pygments_lexer": "ipython3",
   "version": "3.8.3"
  }
 },
 "nbformat": 4,
 "nbformat_minor": 4
}
